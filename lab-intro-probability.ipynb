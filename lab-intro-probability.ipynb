{
 "cells": [
  {
   "cell_type": "markdown",
   "metadata": {},
   "source": [
    "# Lab | Intro to Probability"
   ]
  },
  {
   "cell_type": "markdown",
   "metadata": {},
   "source": [
    "**Objective**\n",
    "\n",
    "Welcome to this Intro to Probability lab, where we explore decision-making scenarios through the lens of probability and strategic analysis. In the business world, making informed decisions is crucial, especially when faced with uncertainties. This lab focuses on scenarios where probabilistic outcomes play a significant role in shaping strategies and outcomes. Students will engage in exercises that require assessing and choosing optimal paths based on data-driven insights. The goal is to enhance your skills by applying probability concepts to solve real-world problems."
   ]
  },
  {
   "cell_type": "markdown",
   "metadata": {},
   "source": [
    "**Challenge 1**"
   ]
  },
  {
   "cell_type": "markdown",
   "metadata": {},
   "source": [
    "#### Ironhack Airlines \n",
    "\n",
    "Often Airlines sell more tickets than they have seats available, this is called overbooking. Consider the following:\n",
    "- A plane has 450 seats. \n",
    "- Based on historical data we conclude that each individual passenger has a 3% chance of missing it's flight. \n",
    "\n",
    "If the Ironhack Airlines routinely sells 460 tickets, what is the chance that they have a seats for all passenger?"
   ]
  },
  {
   "cell_type": "code",
   "execution_count": 2,
   "metadata": {},
   "outputs": [
    {
     "name": "stdout",
     "output_type": "stream",
     "text": [
      "First way to tackle the problem shows odds of 450 or less passengers showing is: 88.448%.\n",
      "Second way to tackle the problem shows odds of more than 10 passengers not showing as: 88.448%.\n"
     ]
    }
   ],
   "source": [
    "from scipy.stats import binom, geom, poisson, expon, norm\n",
    "import seaborn as sns\n",
    "import matplotlib.pyplot as plt\n",
    "import numpy as np\n",
    "#code here\n",
    "n = 460 # sample\n",
    "p = 0.03 # probability of no-show\n",
    "k = 450 # target\n",
    "\n",
    "# calculate the odds of only 450 or less showing\n",
    "binom_dist_s = binom(n,1-p)\n",
    "odds_of_show = binom_dist_s.cdf(k)\n",
    "print(f\"First way to tackle the problem shows odds of 450 or less passengers showing is: {round(odds_of_show*100,3)}%.\")\n",
    "\n",
    "# calculate the odds of 10 or more NOT showing\n",
    "binom_dist_ns = binom(n,p)\n",
    "odds_of_no_show = 1 - binom_dist_ns.cdf(n-k-1)\n",
    "print(f\"Second way to tackle the problem shows odds of more than 10 passengers not showing as: {round(odds_of_no_show*100,3)}%.\")"
   ]
  },
  {
   "cell_type": "markdown",
   "metadata": {},
   "source": [
    "**Challenge 2**"
   ]
  },
  {
   "cell_type": "markdown",
   "metadata": {},
   "source": [
    "#### Ironhack Call Center "
   ]
  },
  {
   "cell_type": "markdown",
   "metadata": {},
   "source": [
    "Suppose a customer service representative at a call center is handling customer complaints. Consider the following:\n",
    "- The probability of successfully resolving a customer complaint on the first attempt is 0.3. \n",
    "\n",
    "\n",
    "What is the probability that the representative needs to make at least three attempts before successfully resolving a customer complaint?"
   ]
  },
  {
   "cell_type": "code",
   "execution_count": 3,
   "metadata": {},
   "outputs": [
    {
     "name": "stdout",
     "output_type": "stream",
     "text": [
      "The probability that the representative needs to make at least three attempts before successfully resolving a customer complaint is 49.0%.\n"
     ]
    }
   ],
   "source": [
    "#code here\n",
    "# 3 or more attempts = 1 - chance of 2 and lower.\n",
    "p = 0.3\n",
    "\n",
    "geom_dist = geom(p)\n",
    "geo = 1-geom_dist.cdf(2)\n",
    "\n",
    "print(f\"The probability that the representative needs to make at least three attempts before successfully resolving a customer complaint is {round(geo,4)*100}%.\")"
   ]
  },
  {
   "cell_type": "markdown",
   "metadata": {},
   "source": [
    "**Challenge 3**"
   ]
  },
  {
   "cell_type": "markdown",
   "metadata": {},
   "source": [
    "#### Ironhack Website"
   ]
  },
  {
   "cell_type": "markdown",
   "metadata": {},
   "source": [
    "Consider a scenario related to Ironhack website traffic. Where:\n",
    "- our website takes on average 500 visits per hour.\n",
    "- the website's server is designed to handle up to 550 vists per hour.\n",
    "\n",
    "\n",
    "What is the probability of the website server being overwhelmed?"
   ]
  },
  {
   "cell_type": "code",
   "execution_count": 4,
   "metadata": {},
   "outputs": [
    {
     "name": "stdout",
     "output_type": "stream",
     "text": [
      "The probability to be overwhelmed is 0.013%.\n"
     ]
    }
   ],
   "source": [
    "#code here\n",
    "mu = 500\n",
    "k = 550\n",
    "\n",
    "poisson_dist = poisson(mu)\n",
    "ps_ovw = 1 - poisson_dist.cdf(550)\n",
    "\n",
    "print(f\"The probability to be overwhelmed is {round(ps_ovw,3)}%.\")"
   ]
  },
  {
   "cell_type": "markdown",
   "metadata": {},
   "source": [
    "What is the probability of being overwhelmed at some point during a day? (consider 24hours)"
   ]
  },
  {
   "cell_type": "code",
   "execution_count": 5,
   "metadata": {},
   "outputs": [
    {
     "name": "stdout",
     "output_type": "stream",
     "text": [
      "The probability of not having 550 or more visitors in a day is 73.2%.\n"
     ]
    }
   ],
   "source": [
    "#code here\n",
    "\n",
    "n = 24\n",
    "p = ps_ovw\n",
    "\n",
    "binom_dist = binom(n,p)\n",
    "not_overwhelm = binom_dist.pmf(0)\n",
    "print(f\"The probability of not having {k} or more visitors in a day is {round(not_overwhelm,3)*100}%.\")"
   ]
  },
  {
   "cell_type": "markdown",
   "metadata": {},
   "source": [
    "**Challenge 4**"
   ]
  },
  {
   "cell_type": "markdown",
   "metadata": {},
   "source": [
    "#### Ironhack Helpdesk"
   ]
  },
  {
   "cell_type": "markdown",
   "metadata": {},
   "source": [
    "Consider a scenario related to the time between arrivals of customers at a service desk.\n",
    "\n",
    "On average, a customers arrives every 10minutes.\n",
    "\n",
    "What is the probability that the next customer will arrive within the next 5 minutes?"
   ]
  },
  {
   "cell_type": "code",
   "execution_count": 6,
   "metadata": {},
   "outputs": [
    {
     "name": "stdout",
     "output_type": "stream",
     "text": [
      "The probability of the next client arriving in 5 mins is 39.300000000000004%.\n"
     ]
    }
   ],
   "source": [
    "n = 10\n",
    "lambda_value = 1/n\n",
    "\n",
    "lambda_inv = expon(scale = n)\n",
    "k=5\n",
    "prob = lambda_inv.cdf(k)\n",
    "\n",
    "print(f\"The probability of the next client arriving in 5 mins is {round(prob,3)*100}%.\")"
   ]
  },
  {
   "cell_type": "markdown",
   "metadata": {},
   "source": [
    "If there is no customer for 15minutes, employees can that a 5minutes break.\n",
    "\n",
    "What is the probability an employee taking a break?"
   ]
  },
  {
   "cell_type": "code",
   "execution_count": 7,
   "metadata": {},
   "outputs": [
    {
     "name": "stdout",
     "output_type": "stream",
     "text": [
      "The probability an employee taking a break is 22.3%.\n"
     ]
    }
   ],
   "source": [
    "k=15\n",
    "prob2 = 1- lambda_inv.cdf(k)\n",
    "\n",
    "print(f\"The probability an employee taking a break is {round(prob2,3)*100}%.\")"
   ]
  },
  {
   "cell_type": "markdown",
   "metadata": {},
   "source": [
    "**Challenge 5**"
   ]
  },
  {
   "cell_type": "markdown",
   "metadata": {},
   "source": [
    "The weights of a certain species of birds follow a normal distribution with a mean weight of 150 grams and a standard deviation of 10 grams. \n",
    "\n",
    "- If we randomly select a bird, what is the probability that its weight is between 140 and 160 grams?"
   ]
  },
  {
   "cell_type": "code",
   "execution_count": 8,
   "metadata": {},
   "outputs": [
    {
     "name": "stdout",
     "output_type": "stream",
     "text": [
      "The probability of the bird weights between 140 and 160 g is 68.30000000000001%.\n"
     ]
    }
   ],
   "source": [
    "#code here\n",
    "mean = 150\n",
    "std = 10\n",
    "\n",
    "norm_dist = norm(loc = mean, scale = std)\n",
    "print(f\"The probability of the bird weights between 140 and 160 g is {round(norm_dist.cdf(160)-norm_dist.cdf(140),3)*100}%.\")"
   ]
  },
  {
   "cell_type": "markdown",
   "metadata": {},
   "source": [
    "**Challenge 6**"
   ]
  },
  {
   "cell_type": "markdown",
   "metadata": {},
   "source": [
    "If the lifetime (in hours) of a certain electronic component follows an exponential distribution with a mean lifetime of 50 hours, what is the probability that the component fails within the first 30 hours?"
   ]
  },
  {
   "cell_type": "code",
   "execution_count": 9,
   "metadata": {},
   "outputs": [
    {
     "name": "stdout",
     "output_type": "stream",
     "text": [
      "The probability that the component fails within the first 30 hours is 45.1%.\n"
     ]
    }
   ],
   "source": [
    "#code here\n",
    "n = 50 \n",
    "lambda_inv = expon(scale = n)\n",
    "k=30 \n",
    "prob = lambda_inv.cdf(k)\n",
    "\n",
    "print(f\"The probability that the component fails within the first 30 hours is {round(prob,3)*100}%.\")"
   ]
  },
  {
   "cell_type": "code",
   "execution_count": null,
   "metadata": {},
   "outputs": [],
   "source": []
  }
 ],
 "metadata": {
  "kernelspec": {
   "display_name": "Python 3",
   "language": "python",
   "name": "python3"
  },
  "language_info": {
   "codemirror_mode": {
    "name": "ipython",
    "version": 3
   },
   "file_extension": ".py",
   "mimetype": "text/x-python",
   "name": "python",
   "nbconvert_exporter": "python",
   "pygments_lexer": "ipython3",
   "version": "3.12.2"
  }
 },
 "nbformat": 4,
 "nbformat_minor": 2
}
